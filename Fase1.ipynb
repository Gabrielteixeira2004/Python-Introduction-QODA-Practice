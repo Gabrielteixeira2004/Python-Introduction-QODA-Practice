{
 "cells": [
  {
   "cell_type": "markdown",
   "metadata": {
    "colab_type": "text",
    "id": "CYNAmoj4zSXl"
   },
   "source": [
    "Crie um algoritmo em Python que mostre a mensagem \"Alo mundo\" na tela."
   ]
  },
  {
   "cell_type": "code",
   "execution_count": 1,
   "metadata": {
    "colab": {},
    "colab_type": "code",
    "id": "ViAfpy3GzPN-"
   },
   "outputs": [
    {
     "name": "stdout",
     "output_type": "stream",
     "text": [
      "Hello World\n"
     ]
    }
   ],
   "source": [
    "print(\"Hello World\")"
   ]
  },
  {
   "cell_type": "markdown",
   "metadata": {
    "colab_type": "text",
    "id": "gdMis92izSmQ"
   },
   "source": [
    "Crie um algoritmo em Python que peça dois números e imprima a soma."
   ]
  },
  {
   "cell_type": "code",
   "execution_count": 2,
   "metadata": {
    "colab": {},
    "colab_type": "code",
    "id": "BFpWkdCBz_zh"
   },
   "outputs": [
    {
     "name": "stdout",
     "output_type": "stream",
     "text": [
      "Digite o primeiro número: 2\n",
      "Digite o segundo número: 5\n",
      "O primeiro número digitado foi 2, o segundo número digitado foi 5 e a soma deles é: 7 \n"
     ]
    }
   ],
   "source": [
    "a = int(input(\"Digite o primeiro número: \"))\n",
    "b = int(input(\"Digite o segundo número: \"))\n",
    "\n",
    "print(f\"O primeiro número digitado foi {a}, o segundo número digitado foi {b} e a soma deles é: {a+b} \")"
   ]
  },
  {
   "cell_type": "markdown",
   "metadata": {
    "colab_type": "text",
    "id": "E_0l_Vx6zSo2"
   },
   "source": [
    "Crie um algoritmo em Python que peça um número e então mostre a mensagem O número informado foi [número]."
   ]
  },
  {
   "cell_type": "code",
   "execution_count": 3,
   "metadata": {
    "colab": {},
    "colab_type": "code",
    "id": "KwJf7XZS0AZW"
   },
   "outputs": [
    {
     "name": "stdout",
     "output_type": "stream",
     "text": [
      "Digite um número: 5\n",
      "O número informado foi  5\n"
     ]
    }
   ],
   "source": [
    "a = int(input(\"Digite um número: \"))\n",
    "\n",
    "print(f\"O número informado foi  {a}\")"
   ]
  },
  {
   "cell_type": "markdown",
   "metadata": {
    "colab_type": "text",
    "id": "1i4VCiiczSrL"
   },
   "source": [
    "Crie um algoritmo em Python que converta metros para centímetros."
   ]
  },
  {
   "cell_type": "code",
   "execution_count": 4,
   "metadata": {
    "colab": {},
    "colab_type": "code",
    "id": "yoW67hjA0BHy"
   },
   "outputs": [
    {
     "name": "stdout",
     "output_type": "stream",
     "text": [
      "Digite o número a ser convertido de metros para centímetros: 1\n",
      "100 centímetros\n"
     ]
    }
   ],
   "source": [
    "a = int(input(\"Digite o número a ser convertido de metros para centímetros: \"))\n",
    "\n",
    "print(f\"{a*100} centímetros\")"
   ]
  },
  {
   "cell_type": "markdown",
   "metadata": {
    "colab_type": "text",
    "id": "4ep7kezvzStO"
   },
   "source": [
    "Crie um algoritmo em Python que peça as 4 notas bimestrais e mostre a média."
   ]
  },
  {
   "cell_type": "code",
   "execution_count": 9,
   "metadata": {
    "colab": {},
    "colab_type": "code",
    "id": "6K6IHWdr0Blt"
   },
   "outputs": [
    {
     "name": "stdout",
     "output_type": "stream",
     "text": [
      "Insira o 1 número: 5\n",
      "5\n",
      "Insira o 2 número: 5\n",
      "10\n",
      "Insira o 3 número: 5\n",
      "15\n",
      "Insira o 4 número: 5\n",
      "20\n",
      "A média é de 5.0\n"
     ]
    }
   ],
   "source": [
    "a=0\n",
    "for i in range(1,5):\n",
    "    b = int(input(f\"Insira o {i} número: \"))\n",
    "    \n",
    "    a += b\n",
    "    \n",
    "print(f\"A média é de {a/4}\")"
   ]
  },
  {
   "cell_type": "markdown",
   "metadata": {
    "colab_type": "text",
    "id": "u6__NaXqzeYg"
   },
   "source": [
    "# Crie um algoritmo em Python que peça o raio de um círculo, calcule e mostre sua área."
   ]
  },
  {
   "cell_type": "code",
   "execution_count": 19,
   "metadata": {
    "colab": {},
    "colab_type": "code",
    "id": "mm2L7g3x0Cfx"
   },
   "outputs": [
    {
     "name": "stdout",
     "output_type": "stream",
     "text": [
      "Insira o raio do círculo: 9\n",
      "A área do círculo é de 254.34\n"
     ]
    }
   ],
   "source": [
    "Area = lambda x:x**2*3.14\n",
    "\n",
    "raio = float(input(\"Insira o raio do círculo: \"))\n",
    "\n",
    "\n",
    "print(f\"A área do círculo é de {Area(raio)}\")"
   ]
  },
  {
   "cell_type": "markdown",
   "metadata": {
    "colab_type": "text",
    "id": "lIlfG-ATzgOr"
   },
   "source": [
    "Crie um algoritmo em Python que calcule a área de um quadrado, em seguida mostre o dobro desta área para o usuário."
   ]
  },
  {
   "cell_type": "code",
   "execution_count": 21,
   "metadata": {
    "colab": {},
    "colab_type": "code",
    "id": "-y4pB6br0DD_"
   },
   "outputs": [
    {
     "name": "stdout",
     "output_type": "stream",
     "text": [
      "Insira o valor de um lado do quadrado: 5\n",
      "O valor da área é de 25.0 e o dobro é de 50.0\n"
     ]
    }
   ],
   "source": [
    "Lado = float(input(\"Insira o valor de um lado do quadrado: \"))\n",
    "\n",
    "Area = Lado ** 2\n",
    "\n",
    "print(f\"O valor da área é de {Area} e o dobro é de {Area*2}\")"
   ]
  },
  {
   "cell_type": "markdown",
   "metadata": {
    "colab_type": "text",
    "id": "Vj4OXsJQziu_"
   },
   "source": [
    "Crie um algoritmo em Python que pergunte quanto você ganha por hora e o número de horas trabalhadas no mês. Calcule e mostre o total do seu salário no referido mês.\n"
   ]
  },
  {
   "cell_type": "code",
   "execution_count": 22,
   "metadata": {
    "colab": {},
    "colab_type": "code",
    "id": "RmApGpg30D00"
   },
   "outputs": [
    {
     "name": "stdout",
     "output_type": "stream",
     "text": [
      "O senhor poderia informar quanto ganha por hora? 50\n",
      "Tá trabalhando quantas horas por mês?90\n",
      "Segue a sua miséria por mês 4500.0\n"
     ]
    }
   ],
   "source": [
    "vlr = float(input(\"O senhor poderia informar quanto ganha por hora? \"))\n",
    "\n",
    "hr = int(input(\"Tá trabalhando quantas horas por mês?\"))\n",
    "\n",
    "\n",
    "print(f\"Segue a sua miséria por mês {vlr*hr}\")"
   ]
  },
  {
   "cell_type": "markdown",
   "metadata": {
    "colab_type": "text",
    "id": "e7id8Ewgzlow"
   },
   "source": [
    "Crie um algoritmo em Python que peça a temperatura em graus Farenheit, transforme e mostre a temperatura em graus Celsius.\n",
    "C = (5 * (F-32) / 9)."
   ]
  },
  {
   "cell_type": "code",
   "execution_count": 24,
   "metadata": {
    "colab": {},
    "colab_type": "code",
    "id": "Kl0ainsv0Eif"
   },
   "outputs": [
    {
     "name": "stdout",
     "output_type": "stream",
     "text": [
      "Quem usa temperatura em Farenheit, ah os americanos, digite aqui: 100\n",
      "Segue a temperatura em Celsius: 38.0\n"
     ]
    }
   ],
   "source": [
    "fr = float(input(\"Quem usa temperatura em Farenheit, ah os americanos, digite aqui: \"))\n",
    "\n",
    "Celfun = lambda x:(5*(x-32)/9)\n",
    "\n",
    "print(f\"Segue a temperatura em Celsius: {round(Celfun(fr),0)}\")"
   ]
  },
  {
   "cell_type": "markdown",
   "metadata": {
    "colab_type": "text",
    "id": "mFCgXRPaznno"
   },
   "source": [
    "Crie um algoritmo em Python que peça a temperatura em graus Celsius, transforme e mostre em graus Farenheit."
   ]
  },
  {
   "cell_type": "code",
   "execution_count": 27,
   "metadata": {
    "colab": {},
    "colab_type": "code",
    "id": "xEAAHRi00FS8"
   },
   "outputs": [
    {
     "name": "stdout",
     "output_type": "stream",
     "text": [
      "Digite aqui a temperatura em Celsius: 38\n",
      "Segue a temperatura em Farenheit: 100.0\n"
     ]
    }
   ],
   "source": [
    "cel = float(input(\"Digite aqui a temperatura em Celsius: \"))\n",
    "\n",
    "frfun = lambda x:((x)*9/5+32)\n",
    "\n",
    "print(f\"Segue a temperatura em Farenheit: {round(frfun(cel),0)}\")"
   ]
  },
  {
   "cell_type": "markdown",
   "metadata": {
    "colab_type": "text",
    "id": "j3fdhu-8zqu9"
   },
   "source": [
    "Crie um algoritmo em Python que peça 2 números inteiros e um número real. Calcule e mostre:\n",
    "* a soma do dobro do primeiro com metade do segundo .\n",
    "* a soma do triplo do primeiro com o terceiro.\n",
    "* o terceiro elevado ao cubo."
   ]
  },
  {
   "cell_type": "code",
   "execution_count": 28,
   "metadata": {
    "colab": {},
    "colab_type": "code",
    "id": "ZEqZrKjt0F5B"
   },
   "outputs": [
    {
     "name": "stdout",
     "output_type": "stream",
     "text": [
      "Digite o primeiro número inteiro: 4\n",
      "Digite o segundo número inteiro: 6\n",
      "Digite um número real: 7.2\n",
      "A soma do dobro do primeiro com metade do segundo é de 11.0\n",
      "A soma do triplo do primeiro com o terceiro 19.2.\n",
      "O terceiro elevado ao cubo 373.24800000000005\n"
     ]
    }
   ],
   "source": [
    "N1 = int(input(\"Digite o primeiro número inteiro: \"))\n",
    "N2 = int(input(\"Digite o segundo número inteiro: \"))\n",
    "R1 = float(input(\"Digite um número real: \"))\n",
    "\n",
    "print(f\"A soma do dobro do primeiro com metade do segundo é de {N1*2+N2/2}\" ) \n",
    "print(f\"A soma do triplo do primeiro com o terceiro {N1*3+R1}.\")\n",
    "print(f\"O terceiro elevado ao cubo {R1**3}\")"
   ]
  }
 ],
 "metadata": {
  "colab": {
   "name": "Fase1.ipynb",
   "provenance": []
  },
  "kernelspec": {
   "display_name": "Python 3",
   "language": "python",
   "name": "python3"
  },
  "language_info": {
   "codemirror_mode": {
    "name": "ipython",
    "version": 3
   },
   "file_extension": ".py",
   "mimetype": "text/x-python",
   "name": "python",
   "nbconvert_exporter": "python",
   "pygments_lexer": "ipython3",
   "version": "3.7.6"
  }
 },
 "nbformat": 4,
 "nbformat_minor": 1
}
