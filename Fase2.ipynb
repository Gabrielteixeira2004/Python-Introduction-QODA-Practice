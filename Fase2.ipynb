{
 "cells": [
  {
   "cell_type": "markdown",
   "metadata": {
    "colab_type": "text",
    "id": "CYNAmoj4zSXl"
   },
   "source": [
    "Crie um algoritmo em Python que peça 2 números e imprima o maior deles."
   ]
  },
  {
   "cell_type": "code",
   "execution_count": 1,
   "metadata": {
    "colab": {},
    "colab_type": "code",
    "id": "ViAfpy3GzPN-"
   },
   "outputs": [
    {
     "name": "stdout",
     "output_type": "stream",
     "text": [
      "Digite o primeiro número: 5\n",
      "Digite o segundo número: 9\n",
      "O maior número é: \n",
      "9\n"
     ]
    }
   ],
   "source": [
    "a = int(input(\"Digite o primeiro número: \"))\n",
    "b = int(input(\"Digite o segundo número: \"))\n",
    "\n",
    "print(\"O maior número é: \")\n",
    "if a>b:\n",
    "    print(a)\n",
    "else:\n",
    "    print(b)"
   ]
  },
  {
   "cell_type": "markdown",
   "metadata": {
    "colab_type": "text",
    "id": "gdMis92izSmQ"
   },
   "source": [
    "Crie um algoritmo em Python que peça um valor e mostre na tela se o valor é positivo ou negativo."
   ]
  },
  {
   "cell_type": "code",
   "execution_count": 3,
   "metadata": {
    "colab": {},
    "colab_type": "code",
    "id": "BFpWkdCBz_zh"
   },
   "outputs": [
    {
     "name": "stdout",
     "output_type": "stream",
     "text": [
      "Digite um número: -8\n",
      "O número é negativo\n"
     ]
    }
   ],
   "source": [
    "a = int(input(\"Digite um número: \"))\n",
    "\n",
    "if a>0:\n",
    "    print(\"O número é positivo\")\n",
    "else:\n",
    "    print(\"O número é negativo\")"
   ]
  },
  {
   "cell_type": "markdown",
   "metadata": {
    "colab_type": "text",
    "id": "E_0l_Vx6zSo2"
   },
   "source": [
    "Crie um algoritmo em Python que verifique se uma letra digitada é vogal ou consoante."
   ]
  },
  {
   "cell_type": "code",
   "execution_count": 5,
   "metadata": {
    "colab": {},
    "colab_type": "code",
    "id": "KwJf7XZS0AZW"
   },
   "outputs": [
    {
     "name": "stdout",
     "output_type": "stream",
     "text": [
      "Digite uma letra: a\n",
      "A letra digitada é uma vogal\n"
     ]
    }
   ],
   "source": [
    "vg = ['a', 'e','i','o','u']\n",
    "\n",
    "a = input(\"Digite uma letra: \")\n",
    "\n",
    "if a in vg:\n",
    "    print('A letra digitada é uma vogal')\n",
    "else:\n",
    "    print('A letra digitada não é uma vogal')"
   ]
  },
  {
   "cell_type": "markdown",
   "metadata": {
    "colab_type": "text",
    "id": "1i4VCiiczSrL"
   },
   "source": [
    "Faça um programa para a leitura de duas notas parciais de um aluno. O programa deve calcular a média alcançada por aluno e apresentar:\n",
    "* \"Aprovado\", se a média alcançada for maior ou igual a sete;\n",
    "* \"Reprovado\", se a média for menor do que sete;\n",
    "* \"Aprovado com Distinção\", se a média for igual a 10."
   ]
  },
  {
   "cell_type": "code",
   "execution_count": 9,
   "metadata": {
    "colab": {},
    "colab_type": "code",
    "id": "yoW67hjA0BHy"
   },
   "outputs": [
    {
     "name": "stdout",
     "output_type": "stream",
     "text": [
      "Digite a primeira nota: 10\n",
      "Digite a segunda nota: 10\n",
      "Aprovado com louvor mizeravi\n"
     ]
    }
   ],
   "source": [
    "a = int(input(\"Digite a primeira nota: \"))\n",
    "b = int(input(\"Digite a segunda nota: \"))\n",
    "\n",
    "c = (a+b)/2\n",
    "\n",
    "if c < 7:\n",
    "    print('Vá estudar')\n",
    "elif c<10:\n",
    "    print('Aprovado')\n",
    "else:\n",
    "    print('Aprovado com louvor mizeravi')"
   ]
  },
  {
   "cell_type": "markdown",
   "metadata": {
    "colab_type": "text",
    "id": "4ep7kezvzStO"
   },
   "source": [
    "Crie um algoritmo em Python que leia três números e mostre o maior deles."
   ]
  },
  {
   "cell_type": "code",
   "execution_count": 11,
   "metadata": {
    "colab": {},
    "colab_type": "code",
    "id": "6K6IHWdr0Blt"
   },
   "outputs": [
    {
     "name": "stdout",
     "output_type": "stream",
     "text": [
      "Digite o 1 número: 7\n",
      "Digite o 2 número: 4\n",
      "Digite o 3 número: 3\n",
      "7\n"
     ]
    }
   ],
   "source": [
    "b = 0\n",
    "for i in range(1,4):\n",
    "    a = int(input(f\"Digite o {i} número: \"))\n",
    "    \n",
    "    if b < a:\n",
    "        b = a\n",
    "\n",
    "print(f'O maior número digitado é {b}')"
   ]
  },
  {
   "cell_type": "markdown",
   "metadata": {
    "colab_type": "text",
    "id": "u6__NaXqzeYg"
   },
   "source": [
    "Crie um algoritmo em Python que leia três números e mostre o maior e o menor deles."
   ]
  },
  {
   "cell_type": "code",
   "execution_count": 15,
   "metadata": {
    "colab": {},
    "colab_type": "code",
    "id": "mm2L7g3x0Cfx"
   },
   "outputs": [
    {
     "name": "stdout",
     "output_type": "stream",
     "text": [
      "Digite o 1 número: 1\n",
      "Digite o 2 número: 4\n",
      "Digite o 3 número: 25\n",
      "O menor número digitado é 1\n"
     ]
    }
   ],
   "source": [
    "b = 0\n",
    "for i in range(1,4):\n",
    "    a = int(input(f\"Digite o {i} número: \"))\n",
    "    \n",
    "    if b > a:\n",
    "        b = a\n",
    "    elif b == 0:\n",
    "        b = a\n",
    "\n",
    "print(f'O menor número digitado é {b}')"
   ]
  },
  {
   "cell_type": "markdown",
   "metadata": {
    "colab_type": "text",
    "id": "lIlfG-ATzgOr"
   },
   "source": [
    "Faça um programa que pergunte o preço de 5 produtos e informe qual produto você deve comprar, sabendo que a decisão é sempre pelo mais barato."
   ]
  },
  {
   "cell_type": "code",
   "execution_count": 30,
   "metadata": {
    "colab": {},
    "colab_type": "code",
    "id": "-y4pB6br0DD_"
   },
   "outputs": [
    {
     "name": "stdout",
     "output_type": "stream",
     "text": [
      "Quanto custa Banana? 50\n",
      "Quanto custa Pera? 43\n",
      "Quanto custa Maçã? 2\n",
      "Quanto custa Uva? 1\n",
      "Quanto custa Morango? 9\n",
      "O menor valor é de Uva\n"
     ]
    }
   ],
   "source": [
    "prod = {'Banana':0,'Pera':0,'Maçã':0,'Uva':0,'Morango':0}\n",
    "\n",
    "for i in prod:\n",
    "    a = int(input(f'Quanto custa {i}? '))\n",
    "    prod[i] = a\n",
    "\n",
    "    \n",
    "print(f'O menor valor é de {min(prod,key=prod.get)}')"
   ]
  },
  {
   "cell_type": "markdown",
   "metadata": {
    "colab_type": "text",
    "id": "Vj4OXsJQziu_"
   },
   "source": [
    "Crie um algoritmo em Python que leia três números e mostre-os em ordem decrescente."
   ]
  },
  {
   "cell_type": "code",
   "execution_count": 36,
   "metadata": {
    "colab": {},
    "colab_type": "code",
    "id": "RmApGpg30D00"
   },
   "outputs": [
    {
     "name": "stdout",
     "output_type": "stream",
     "text": [
      "Digite o 1 número: 7\n",
      "Digite o 2 número: 9\n",
      "Digite o 3 número: 4\n",
      "[9, 7, 4]\n"
     ]
    }
   ],
   "source": [
    "b = []\n",
    "\n",
    "for i in range(1,4):\n",
    "    a = int(input(f\"Digite o {i} número: \"))\n",
    "    \n",
    "    b.append(a)\n",
    "    \n",
    "b.sort(reverse=True)\n",
    "\n",
    "print(b)"
   ]
  },
  {
   "cell_type": "markdown",
   "metadata": {
    "colab_type": "text",
    "id": "e7id8Ewgzlow"
   },
   "source": [
    "As Organizações Mendéz resolveram dar um aumento de salário aos seus colaboradores e lhe contrataram para desenvolver o programa que calculará os reajustes em Python. Faça um programa que receba o salário de um colaborador e o reajuste segundo o seguinte critério, baseado no salário atual:\n",
    "\n",
    "* salários entre 680,00 e 800,00 : aumento de 15%<br>\n",
    "* salários entre 800,00 e 2500,00 : aumento de 10%<br>\n",
    "* salários de 2500,00 em diante : aumento de 5% após o aumento ser realizado.\n",
    "\n",
    "Informe na tela:\n",
    "* o salário antes do reajuste;\n",
    "* o percentual de aumento aplicado;\n",
    "* o valor do aumento;\n",
    "* o novo salário, após o aumento."
   ]
  },
  {
   "cell_type": "code",
   "execution_count": 45,
   "metadata": {
    "colab": {},
    "colab_type": "code",
    "id": "Kl0ainsv0Eif"
   },
   "outputs": [
    {
     "name": "stdout",
     "output_type": "stream",
     "text": [
      "Insira o salário a ser analisado: 6400\n",
      "\n",
      "O salário antes do reajuste era: 6400.0\n",
      "\n",
      "O percentual aplicado: 5.0%\n",
      "\n",
      "O valor de aumento: 320.0\n",
      "\n",
      "O novo salário: 6720.0\n"
     ]
    }
   ],
   "source": [
    "a = float(input('Insira o salário a ser analisado: '))\n",
    "\n",
    "def rodar(i):\n",
    "    if i < 680:\n",
    "        print(\"Verifique o salário novamente\")\n",
    "        return\n",
    "    elif i <800:\n",
    "        b = 0.15\n",
    "    elif i <2500:\n",
    "        b = 0.1\n",
    "    else:\n",
    "        b = 0.05\n",
    "    \n",
    "    c = round((a*(1+b)),2)\n",
    "    \n",
    "    print(f\"\\nO salário antes do reajuste era: {a}\")\n",
    "    print(f\"\\nO percentual aplicado: {round(b*100,0)}%\")\n",
    "    print(f\"\\nO valor de aumento: {round(c-a,2)}\")\n",
    "    print(f\"\\nO novo salário: {c}\")\n",
    "    \n",
    "rodar(a)"
   ]
  }
 ],
 "metadata": {
  "colab": {
   "name": "Fase2.ipynb",
   "provenance": []
  },
  "kernelspec": {
   "display_name": "Python 3",
   "language": "python",
   "name": "python3"
  },
  "language_info": {
   "codemirror_mode": {
    "name": "ipython",
    "version": 3
   },
   "file_extension": ".py",
   "mimetype": "text/x-python",
   "name": "python",
   "nbconvert_exporter": "python",
   "pygments_lexer": "ipython3",
   "version": "3.7.6"
  }
 },
 "nbformat": 4,
 "nbformat_minor": 1
}
