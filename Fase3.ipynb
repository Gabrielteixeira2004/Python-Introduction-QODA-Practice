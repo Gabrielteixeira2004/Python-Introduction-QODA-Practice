{
 "cells": [
  {
   "cell_type": "markdown",
   "metadata": {
    "colab_type": "text",
    "id": "CYNAmoj4zSXl"
   },
   "source": [
    "Crie um algoritmo em Python que peça uma nota, entre zero e 100. Mostre uma mensagem caso o valor seja inválido e continue pedindo até que o usuário informe um valor válido."
   ]
  },
  {
   "cell_type": "code",
   "execution_count": 2,
   "metadata": {
    "colab": {},
    "colab_type": "code",
    "id": "ViAfpy3GzPN-"
   },
   "outputs": [
    {
     "name": "stdout",
     "output_type": "stream",
     "text": [
      "Digite uma nota entre 1 a 100: a\n",
      "Valor não é número, tente novamente\n",
      "Digite uma nota entre 1 a 100: 101\n",
      "Valor inválido, tente novamente\n",
      "Digite uma nota entre 1 a 100: 50\n"
     ]
    }
   ],
   "source": [
    "b = [x for x in range(1,101)]\n",
    "\n",
    "while True:\n",
    "    a = input(\"Digite uma nota entre 1 a 100: \")\n",
    "    \n",
    "    try:\n",
    "        \n",
    "        if int(a) not in b:\n",
    "            print(\"Valor inválido, tente novamente\")\n",
    "        else:\n",
    "            break\n",
    "        \n",
    "    except:\n",
    "        print(\"Valor não é número, tente novamente\")\n",
    "    \n",
    "   "
   ]
  },
  {
   "cell_type": "markdown",
   "metadata": {
    "colab_type": "text",
    "id": "gdMis92izSmQ"
   },
   "source": [
    "Crie um algoritmo em Python que leia um nome de usuário e a sua senha e não aceite a senha igual ao nome do usuário, mostrando uma mensagem de erro e voltando a pedir as informações.<br>"
   ]
  },
  {
   "cell_type": "code",
   "execution_count": 4,
   "metadata": {
    "colab": {},
    "colab_type": "code",
    "id": "BFpWkdCBz_zh"
   },
   "outputs": [
    {
     "name": "stdout",
     "output_type": "stream",
     "text": [
      "Digite o seu login: abc\n",
      "\n",
      "Sua senha deverá ser diferente do login\n",
      "\n",
      "Digite sua senha: abc\n",
      "\n",
      "Sua senha deverá ser diferente do login\n",
      "\n",
      "Digite sua senha: 123\n"
     ]
    }
   ],
   "source": [
    "a = input(\"Digite o seu login: \")\n",
    "\n",
    "b = a\n",
    "\n",
    "while b == a:\n",
    "    \n",
    "    print(\"\\nSua senha deverá ser diferente do login\")\n",
    "    b = input(\"\\nDigite sua senha: \")\n",
    "    \n",
    "    "
   ]
  },
  {
   "cell_type": "markdown",
   "metadata": {
    "colab_type": "text",
    "id": "E_0l_Vx6zSo2"
   },
   "source": [
    "Crie um algoritmo em Python que leia e valide as seguintes informações:\n",
    "* Nome: maior que 3 caracteres;\n",
    "* Idade: entre 0 e 150;\n",
    "* Salário: maior que zero;\n",
    "* Sexo: 'f' ou 'm';\n",
    "* Estado Civil: 's', 'c', 'v', 'd';"
   ]
  },
  {
   "cell_type": "code",
   "execution_count": 18,
   "metadata": {
    "colab": {},
    "colab_type": "code",
    "id": "KwJf7XZS0AZW"
   },
   "outputs": [
    {
     "name": "stdout",
     "output_type": "stream",
     "text": [
      "O nome deverá ser maior que 3 caracteres.\n",
      "\n",
      "Digite o seu nome: Gabriel\n",
      "\n",
      "\n",
      "A idade deverá ser entre 0 e 150 anos, somente digite números inteiros.\n",
      "\n",
      "Digite sua idade: 29\n",
      "\n",
      "\n",
      "O salário digitado deverá ser maior que 0.\n",
      "\n",
      "Digite seu salário: 500\n",
      "\n",
      "\n",
      "Digite o seu sexo (F/M): m\n",
      "\n",
      "Digite o seu Estado Civil: \n",
      " S(Solteiro) \n",
      " C(Casado) \n",
      " V(Viúvo) \n",
      " D(Divorciado) c\n"
     ]
    }
   ],
   "source": [
    "nome = ''\n",
    "idade = -1\n",
    "salario = 0\n",
    "sexo = ''\n",
    "estcv = ''\n",
    "\n",
    "while len(nome)<4:\n",
    "    \n",
    "    print(\"O nome deverá ser maior que 3 caracteres.\")\n",
    "    nome = input(\"\\nDigite o seu nome: \")\n",
    "    \n",
    "    \n",
    "while not 0 < idade < 150 :\n",
    "    \n",
    "    print(\"\\n\\nA idade deverá ser entre 0 e 150 anos, somente digite números inteiros.\")\n",
    "    try:\n",
    "        idade = int(input(\"\\nDigite sua idade: \"))\n",
    "    except:\n",
    "        print(\"A idade digitada não é válida.\")\n",
    "    \n",
    "\n",
    "\n",
    "while salario<1 :\n",
    "    \n",
    "    print(\"\\n\\nO salário digitado deverá ser maior que 0.\")\n",
    "    try:\n",
    "        salario = float(input(\"\\nDigite seu salário: \"))\n",
    "\n",
    "    except:\n",
    "        print(\"O salário digitado não é válido.\")\n",
    "        \n",
    "        \n",
    "        \n",
    "while True :\n",
    "    sexo = input(\"\\n\\nDigite o seu sexo (F/M): \").upper()\n",
    "\n",
    "    \n",
    "    if sexo in ['F','M']:\n",
    "        break\n",
    "    else:\n",
    "        print('Sexo não encontrado na base, digite novamente.')\n",
    "        \n",
    "        \n",
    "        \n",
    "        \n",
    "while True :\n",
    "    estcv = input(\"\\nDigite o seu Estado Civil: \\n S(Solteiro) \\n C(Casado) \\n V(Viúvo) \\n D(Divorciado) \").upper()\n",
    "    \n",
    "    if estcv in ['S','C', 'V','D']:\n",
    "        break\n",
    "    else:\n",
    "        print('Estado Civil não encontrado na base, digite novamente.')"
   ]
  },
  {
   "cell_type": "markdown",
   "metadata": {
    "colab_type": "text",
    "id": "1i4VCiiczSrL"
   },
   "source": [
    "Supondo que a população de um país A seja da ordem de 80000 habitantes com uma taxa anual de crescimento de 3% e que a população de B seja 200000 habitantes com uma taxa de crescimento de 1.5%.<br><br> Crie um algoritmo em Python que calcule e escreva o número de anos necessários para que a população do país A ultrapasse ou iguale a população do país B, mantidas as taxas de crescimento."
   ]
  },
  {
   "cell_type": "code",
   "execution_count": 3,
   "metadata": {
    "colab": {},
    "colab_type": "code",
    "id": "yoW67hjA0BHy"
   },
   "outputs": [
    {
     "name": "stdout",
     "output_type": "stream",
     "text": [
      "Digite a população do país A: 80000\n",
      "\n",
      "Digite o crescimento % da população do país A: 3\n",
      "\n",
      "Digite a população do país B: 200000\n",
      "\n",
      "Digite o crescimento % da população do país B (Deverá ser menor que A): 1.5\n",
      "Será necessário 63 anos para o país A superar B\n"
     ]
    }
   ],
   "source": [
    "anos = 0\n",
    "\n",
    "\n",
    "\n",
    "a = int(input(\"Digite a população do país A: \"))\n",
    "cr_a = float(input(\"\\nDigite o crescimento % da população do país A: \"))/100\n",
    "\n",
    "b = int(input(\"\\nDigite a população do país B: \"))\n",
    "\n",
    "cr_b = cr_a\n",
    "\n",
    "while cr_b >= cr_a:\n",
    "    cr_b = float(input(\"\\nDigite o crescimento % da população do país B (Deverá ser menor que A): \"))/100\n",
    "\n",
    "while a < b:\n",
    "    a *=  1+(cr_a)\n",
    "    b *=  1+(cr_b)\n",
    "    anos +=1\n",
    "    \n",
    "    \n",
    "print(f\"Será necessário {anos} anos para o país A superar B\")  \n",
    "  \n",
    "\n",
    "   "
   ]
  },
  {
   "cell_type": "markdown",
   "metadata": {
    "colab_type": "text",
    "id": "4ep7kezvzStO"
   },
   "source": [
    "Desenvolva um gerador de tabuada, capaz de gerar a tabuada de qualquer número inteiro entre 1 a 10. O usuário deve informar de qual numero ele deseja ver a tabuada. A saída deve ser conforme o exemplo abaixo:\n",
    "Tabuada de 5:<br>\n",
    "5 X 1 = 5<br>\n",
    "5 X 2 = 10<br>\n",
    "...<br>\n",
    "5 X 10 = 50<br>"
   ]
  },
  {
   "cell_type": "code",
   "execution_count": 5,
   "metadata": {
    "colab": {},
    "colab_type": "code",
    "id": "6K6IHWdr0Blt"
   },
   "outputs": [
    {
     "name": "stdout",
     "output_type": "stream",
     "text": [
      "Insira um número inteiro para saber sua tabuada: 9\n",
      "9 X 1 = 9\n",
      "9 X 2 = 18\n",
      "9 X 3 = 27\n",
      "9 X 4 = 36\n",
      "9 X 5 = 45\n",
      "9 X 6 = 54\n",
      "9 X 7 = 63\n",
      "9 X 8 = 72\n",
      "9 X 9 = 81\n",
      "9 X 10 = 90\n"
     ]
    }
   ],
   "source": [
    "a = int(input(\"Insira um número inteiro para saber sua tabuada: \"))\n",
    "\n",
    "for i in range(1,11):\n",
    "    \n",
    "    print(f'{a} X {i} = {a*i}')"
   ]
  },
  {
   "cell_type": "markdown",
   "metadata": {
    "colab_type": "text",
    "id": "u6__NaXqzeYg"
   },
   "source": [
    "Crie um algoritmo em Python que leia três números e mostre o maior e o menor deles."
   ]
  },
  {
   "cell_type": "code",
   "execution_count": 13,
   "metadata": {
    "colab": {},
    "colab_type": "code",
    "id": "mm2L7g3x0Cfx"
   },
   "outputs": [
    {
     "name": "stdout",
     "output_type": "stream",
     "text": [
      "O maior é 5\n"
     ]
    }
   ],
   "source": [
    "lst = []\n",
    "\n",
    "def mai(a,b,c):\n",
    "    \n",
    "    lst.append(int(a))\n",
    "    lst.append(int(b))\n",
    "    lst.append(int(c))\n",
    "    \n",
    "    print(f'O maior é {max(lst)}')\n",
    "    \n",
    "mai(3,1,5)"
   ]
  },
  {
   "cell_type": "markdown",
   "metadata": {
    "colab_type": "text",
    "id": "lIlfG-ATzgOr"
   },
   "source": [
    "Crie um algoritmo em Python que peça 2 números, base e expoente, calcule e mostre o primeiro número elevado ao segundo número. Não utilize a função de potência da linguagem."
   ]
  },
  {
   "cell_type": "code",
   "execution_count": 14,
   "metadata": {
    "colab": {},
    "colab_type": "code",
    "id": "-y4pB6br0DD_"
   },
   "outputs": [
    {
     "name": "stdout",
     "output_type": "stream",
     "text": [
      "Digite o número base: 2\n",
      "Digite a potência: 3\n",
      "8\n"
     ]
    }
   ],
   "source": [
    "a = int(input(\"Digite o número base: \"))\n",
    "b = int(input(\"Digite a potência: \"))\n",
    "\n",
    "print(a**b)"
   ]
  },
  {
   "cell_type": "markdown",
   "metadata": {
    "colab_type": "text",
    "id": "Vj4OXsJQziu_"
   },
   "source": [
    "Crie um algoritmo em Python que peça 10 números inteiros, calcule e mostre a quantidade de números pares e a quantidade de números impares."
   ]
  },
  {
   "cell_type": "code",
   "execution_count": 1,
   "metadata": {
    "colab": {},
    "colab_type": "code",
    "id": "RmApGpg30D00"
   },
   "outputs": [
    {
     "name": "stdout",
     "output_type": "stream",
     "text": [
      "Digite 10 números inteiros.\n",
      "\n",
      "Digite o 1 número: 9\n",
      "\n",
      "Digite o 2 número: 20\n",
      "\n",
      "Digite o 3 número: 23\n",
      "\n",
      "Digite o 4 número: 27\n",
      "\n",
      "Digite o 5 número: 29\n",
      "\n",
      "Digite o 6 número: 10\n",
      "\n",
      "Digite o 7 número: 4\n",
      "\n",
      "Digite o 8 número: 3\n",
      "\n",
      "Digite o 9 número: 2\n",
      "\n",
      "Digite o 10 número: 1\n"
     ]
    }
   ],
   "source": [
    "a = []\n",
    "\n",
    "print('Digite 10 números inteiros.')\n",
    "for i in range(1,11):\n",
    "    a.append(int(input(f'\\nDigite o {i} número: ')))\n",
    "    \n",
    "par = [x for x in a if x%2==0]\n",
    "impar = [x for x in a if x%2!=0]\n",
    "\n",
    "print(f'Dentre os números digitados existem {len(par)} números pares e {len(impar)} números ímpares  ')"
   ]
  },
  {
   "cell_type": "markdown",
   "metadata": {
    "colab_type": "text",
    "id": "e7id8Ewgzlow"
   },
   "source": [
    "Um funcionário de uma empresa recebe aumento salarial anualmente: Sabe-se que:\n",
    "Esse funcionário foi contratado em 1995, com salário inicial de R$ 1.000,00;\n",
    "Em 1996 recebeu aumento de 1,5% sobre seu salário inicial;\n",
    "A partir de 1997 (inclusive), os aumentos salariais sempre correspondem ao dobro do percentual do ano anterior. Crie um algoritmo em Python que determine o salário atual desse funcionário. Após concluir isto, altere o programa permitindo que o usuário digite o salário inicial do funcionário."
   ]
  },
  {
   "cell_type": "code",
   "execution_count": 10,
   "metadata": {
    "colab": {},
    "colab_type": "code",
    "id": "Kl0ainsv0Eif"
   },
   "outputs": [
    {
     "name": "stdout",
     "output_type": "stream",
     "text": [
      "Digite o salário inicial do funcionário: 1000\n",
      "0.015\n",
      "1015.0 1995\n",
      "0.03\n",
      "1045.45 1996\n",
      "0.06\n",
      "1108.18 1997\n",
      "0.12\n",
      "1241.16 1998\n",
      "0.24\n",
      "1539.04 1999\n",
      "0.48\n",
      "2277.77 2000\n",
      "0.96\n",
      "4464.44 2001\n",
      "1.92\n",
      "13036.15 2002\n",
      "3.84\n",
      "63094.98 2003\n",
      "7.68\n",
      "547664.47 2004\n",
      "15.36\n",
      "8959790.69 2005\n",
      "30.72\n",
      "284204560.82 2006\n",
      "61.44\n",
      "17745732777.31 2007\n",
      "122.88\n",
      "2198341376453.0 2008\n",
      "245.76\n",
      "542462718053542.06 2009\n",
      "491.52\n",
      "2.6717373789573053e+17 2010\n",
      "983.04\n",
      "2.6290964503891467e+20 2011\n",
      "1966.08\n",
      "5.1716430456314824e+23 2012\n",
      "3932.16\n",
      "2.034089956135592e+27 2013\n",
      "7864.32\n",
      "1.5998768413792394e+31 2014\n",
      "15728.64\n",
      "2.516548675923254e+35 2015\n",
      "31457.28\n",
      "7.916629288082298e+39 2016\n",
      "62914.56\n",
      "4.980791649720991e+44 2017\n",
      "125829.12\n",
      "6.267336109793902e+49 2018\n",
      "251658.24\n",
      "1.5772330422152897e+55 2019\n"
     ]
    }
   ],
   "source": [
    "from datetime import date\n",
    "\n",
    "sal = int(input('Digite o salário inicial do funcionário: '))\n",
    "\n",
    "ano = 1995\n",
    "\n",
    "cr = 0.015\n",
    "\n",
    "while ano != date.today().year:\n",
    "    print(cr)\n",
    "    sal *= (1+cr)\n",
    "    cr *= 2\n",
    "    print(round(sal,2),ano)\n",
    "    ano += 1\n"
   ]
  },
  {
   "cell_type": "markdown",
   "metadata": {
    "colab_type": "text",
    "id": "5u9i4kzm-itX"
   },
   "source": [
    "Crie um algoritmo em Python com uma função que necessite de um argumento. A função retorna o valor de caractere ‘P’, se seu argumento for positivo, e ‘N’, se seu argumento for zero ou negativo."
   ]
  },
  {
   "cell_type": "code",
   "execution_count": 3,
   "metadata": {
    "colab": {},
    "colab_type": "code",
    "id": "WNt8CLa2-rGt"
   },
   "outputs": [
    {
     "name": "stdout",
     "output_type": "stream",
     "text": [
      "P\n"
     ]
    }
   ],
   "source": [
    "def ver(a):\n",
    "    \n",
    "    if a == True:\n",
    "        print(\"P\")\n",
    "    else:\n",
    "        print(\"N\")\n",
    "        \n",
    "ver(11>10)"
   ]
  },
  {
   "cell_type": "markdown",
   "metadata": {
    "colab_type": "text",
    "id": "CHiYMSOJ-rSY"
   },
   "source": [
    "Construa uma função que receba uma data no formato DD/MM/AAAA e devolva uma string no formato D de mesPorExtenso de AAAA. Opcionalmente, valide a data e retorne NULL caso a data seja inválida."
   ]
  },
  {
   "cell_type": "code",
   "execution_count": 4,
   "metadata": {
    "colab": {},
    "colab_type": "code",
    "id": "6Ukxx6gQ-r4-"
   },
   "outputs": [
    {
     "name": "stdout",
     "output_type": "stream",
     "text": [
      "Insira sua data DD/MM/AAAA: 11/08/2020\n",
      "11 de agosto de 2020\n"
     ]
    }
   ],
   "source": [
    "from datetime import datetime\n",
    "\n",
    "mes_ext = {1: 'janeiro', 2 : 'fevereiro', 3: 'março', 4: 'abril', 5: 'maio', 6:'junho', 7:'julho', 8:'agosto', 9:'setembro', 10:'outubro', 11:'novembro', 12:'dezembro'}\n",
    "\n",
    "while True:\n",
    "    try:\n",
    "        data = datetime.strptime(input('Insira sua data DD/MM/AAAA: '), '%d/%m/%Y').date()\n",
    "        print(f'{data.day} de {mes_ext[data.month]} de {data.year}') \n",
    "        break\n",
    "    except:\n",
    "        print(\"Erro, data não válida\")\n"
   ]
  },
  {
   "cell_type": "markdown",
   "metadata": {
    "colab_type": "text",
    "id": "AzUYbZ8A-zj7"
   },
   "source": [
    "Crie uma classe que modele uma pessoa:<br>\n",
    "\n",
    "Atributos: nome, idade, peso e altura<br>\n",
    "Métodos: Envelhercer, engordar, emagrecer, crescer.<br>\n",
    "<br>Obs: Por padrão, a cada ano que nossa pessoa envelhece, sendo a idade dela menor que 21 anos, ela deve crescer 0,5 cm."
   ]
  },
  {
   "cell_type": "code",
   "execution_count": 65,
   "metadata": {
    "colab": {},
    "colab_type": "code",
    "id": "qobhV-FC-zRS"
   },
   "outputs": [],
   "source": [
    "class Pessoa():\n",
    "    \n",
    "    def __init__(self,nome,idade,peso,altura):\n",
    "        self.nome = str(nome)\n",
    "        self.idade = int(idade)\n",
    "        self.peso = float(peso)\n",
    "        self.altura = float(altura)\n",
    "        \n",
    "    def envelhecer(self):\n",
    "        self.idade += 1\n",
    "        print('Envelhecendo....')\n",
    "        self.crescer()\n",
    "\n",
    "            \n",
    "    def crescer(self):\n",
    "        if self.idade < 21:\n",
    "            self.altura += 0.05\n",
    "\n",
    "        print('Crescendo, crescendo....')\n",
    "        print(f'Altura {self.altura} ')\n",
    "        \n",
    "    def engordar(self):\n",
    "        self.peso += 1\n",
    "        print('Nom nom nom....')\n",
    "        print(f'Peso: {self.peso}')\n",
    "        \n",
    "    def emagrecer(self):\n",
    "        self.peso -= 1\n",
    "        print('Morrendo de fome....')\n",
    "        print(f'Peso: {self.peso}')\n"
   ]
  },
  {
   "cell_type": "code",
   "execution_count": 66,
   "metadata": {},
   "outputs": [],
   "source": [
    "p1 = Pessoa('Gabriel',17,89,1.75)"
   ]
  },
  {
   "cell_type": "code",
   "execution_count": 67,
   "metadata": {},
   "outputs": [
    {
     "name": "stdout",
     "output_type": "stream",
     "text": [
      "Crescendo, crescendo....\n",
      "Altura 1.8 \n"
     ]
    }
   ],
   "source": [
    "p1.crescer()"
   ]
  },
  {
   "cell_type": "code",
   "execution_count": 68,
   "metadata": {},
   "outputs": [
    {
     "name": "stdout",
     "output_type": "stream",
     "text": [
      "Envelhecendo....\n",
      "Crescendo, crescendo....\n",
      "Altura 1.85 \n"
     ]
    }
   ],
   "source": [
    "p1.envelhecer()"
   ]
  },
  {
   "cell_type": "code",
   "execution_count": 69,
   "metadata": {},
   "outputs": [
    {
     "name": "stdout",
     "output_type": "stream",
     "text": [
      "Nom nom nom....\n",
      "Peso: 90.0\n"
     ]
    }
   ],
   "source": [
    "p1.engordar()"
   ]
  },
  {
   "cell_type": "code",
   "execution_count": 70,
   "metadata": {},
   "outputs": [
    {
     "name": "stdout",
     "output_type": "stream",
     "text": [
      "Morrendo de fome....\n",
      "Peso: 89.0\n"
     ]
    }
   ],
   "source": [
    "p1.emagrecer()"
   ]
  }
 ],
 "metadata": {
  "colab": {
   "name": "Fase3.ipynb",
   "provenance": []
  },
  "kernelspec": {
   "display_name": "Python 3",
   "language": "python",
   "name": "python3"
  },
  "language_info": {
   "codemirror_mode": {
    "name": "ipython",
    "version": 3
   },
   "file_extension": ".py",
   "mimetype": "text/x-python",
   "name": "python",
   "nbconvert_exporter": "python",
   "pygments_lexer": "ipython3",
   "version": "3.7.6"
  }
 },
 "nbformat": 4,
 "nbformat_minor": 1
}
